{
 "cells": [
  {
   "cell_type": "code",
   "execution_count": 9,
   "metadata": {},
   "outputs": [],
   "source": [
    "#library needed for this project\n",
    "library(tidyverse)\n",
    "library(dplyr)\n",
    "library(RColorBrewer)\n",
    "library(tidyr)\n",
    "library(tidymodels)\n",
    "library(repr)"
   ]
  },
  {
   "cell_type": "markdown",
   "metadata": {},
   "source": [
    "**Load Data**"
   ]
  },
  {
   "cell_type": "code",
   "execution_count": 10,
   "metadata": {},
   "outputs": [
    {
     "name": "stderr",
     "output_type": "stream",
     "text": [
      "Parsed with column specification:\n",
      "cols(\n",
      "  `<!DOCTYPE html>` = \u001b[31mcol_character()\u001b[39m\n",
      ")\n",
      "\n",
      "Warning message:\n",
      "“75 parsing failures.\n",
      "row col           expected    actual                                                               file\n",
      "  5  -- 1 columns          2 columns 'https://www.kaggle.com/datasets/gregorut/videogamesales/download'\n",
      "  8  -- 1 columns          4 columns 'https://www.kaggle.com/datasets/gregorut/videogamesales/download'\n",
      " 21  -- 1 columns          8 columns 'https://www.kaggle.com/datasets/gregorut/videogamesales/download'\n",
      " 25  -- 1 columns          8 columns 'https://www.kaggle.com/datasets/gregorut/videogamesales/download'\n",
      " 28  -- delimiter or quote ]         'https://www.kaggle.com/datasets/gregorut/videogamesales/download'\n",
      "... ... .................. ......... ..................................................................\n",
      "See problems(...) for more details.\n",
      "”\n"
     ]
    },
    {
     "data": {
      "text/plain": [
       " <!DOCTYPE html>   \n",
       " Length:70         \n",
       " Class :character  \n",
       " Mode  :character  "
      ]
     },
     "metadata": {},
     "output_type": "display_data"
    }
   ],
   "source": [
    "url<-\"https://www.kaggle.com/datasets/gregorut/videogamesales/download\"\n",
    "\n",
    "raw_vgdata <- read_csv(url)\n",
    "summary(raw_vgdata)"
   ]
  },
  {
   "cell_type": "markdown",
   "metadata": {},
   "source": [
    "**Clean Data**"
   ]
  },
  {
   "cell_type": "code",
   "execution_count": 11,
   "metadata": {},
   "outputs": [
    {
     "ename": "ERROR",
     "evalue": "Error: Problem with `filter()` input `..1`.\n\u001b[31m✖\u001b[39m object 'Year' not found\n\u001b[34mℹ\u001b[39m Input `..1` is `Year < 2017`.\n",
     "output_type": "error",
     "traceback": [
      "Error: Problem with `filter()` input `..1`.\n\u001b[31m✖\u001b[39m object 'Year' not found\n\u001b[34mℹ\u001b[39m Input `..1` is `Year < 2017`.\nTraceback:\n",
      "1. na.omit(raw_vgdata) %>% filter(Year < 2017) %>% filter(Genre == \n .     \"Sport\" | Genre == \"Action\")",
      "2. withVisible(eval(quote(`_fseq`(`_lhs`)), env, env))",
      "3. eval(quote(`_fseq`(`_lhs`)), env, env)",
      "4. eval(quote(`_fseq`(`_lhs`)), env, env)",
      "5. `_fseq`(`_lhs`)",
      "6. freduce(value, `_function_list`)",
      "7. function_list[[i]](value)",
      "8. filter(., Year < 2017)",
      "9. filter.data.frame(., Year < 2017)",
      "10. filter_rows(.data, ...)",
      "11. withCallingHandlers(mask$eval_all_filter(dots, env_filter), error = function(e) {\n  .     local_call_step(dots = dots, .index = env_filter$current_expression, \n  .         .fn = \"filter\")\n  .     abort(c(cnd_bullet_header(), x = conditionMessage(e), i = cnd_bullet_input_info(), \n  .         i = cnd_bullet_cur_group_label()), class = \"dplyr_error\")\n  . })",
      "12. mask$eval_all_filter(dots, env_filter)",
      "13. .handleSimpleError(function (e) \n  . {\n  .     local_call_step(dots = dots, .index = env_filter$current_expression, \n  .         .fn = \"filter\")\n  .     abort(c(cnd_bullet_header(), x = conditionMessage(e), i = cnd_bullet_input_info(), \n  .         i = cnd_bullet_cur_group_label()), class = \"dplyr_error\")\n  . }, \"object 'Year' not found\", base::quote(mask$eval_all_filter(dots, \n  .     env_filter)))",
      "14. h(simpleError(msg, call))",
      "15. abort(c(cnd_bullet_header(), x = conditionMessage(e), i = cnd_bullet_input_info(), \n  .     i = cnd_bullet_cur_group_label()), class = \"dplyr_error\")",
      "16. signal_abort(cnd)"
     ]
    }
   ],
   "source": [
    "vg <- na.omit(raw_vgdata) %>%\n",
    "      filter(Year < 2017) %>%\n",
    "    filter(Genre == \"Sport\" | Genre == \"Action\")    "
   ]
  },
  {
   "cell_type": "markdown",
   "metadata": {},
   "source": [
    "**Split Data**\n"
   ]
  },
  {
   "cell_type": "code",
   "execution_count": null,
   "metadata": {},
   "outputs": [],
   "source": [
    "set.seed(9999)\n",
    "\n",
    "vgsplit<-initial_split(vg, prop=0.75, strata=EU_Sales) \n",
    "vgtrain<-training(vgsplit)\n",
    "vgtest<-testing(vgsplit)"
   ]
  },
  {
   "cell_type": "markdown",
   "metadata": {},
   "source": [
    "**Forward Selection**"
   ]
  },
  {
   "cell_type": "code",
   "execution_count": null,
   "metadata": {},
   "outputs": [],
   "source": [
    "set.seed(9999)\n",
    "\n",
    "vg_formula <- paste(\"EU_Sales\", \"~\", paste(names, collapse=\"+\"))\n",
    "vg_formula\n",
    "\n",
    "# create an empty tibble to store the results\n",
    "accuracies <- tibble(size = integer(),\n",
    "                     model_string = character(),\n",
    "                     accuracy = numeric())\n",
    "\n",
    "# create a model specification\n",
    "knn_spec <- nearest_neighbor(weight_func = \"rectangular\", neighbors = tune()) %>%\n",
    "     set_engine(\"kknn\") %>%\n",
    "     set_mode(\"regression\")\n",
    "\n",
    "# create a 5-fold cross-validation object\n",
    "vg_vfold <- vfold_cv(vg_train, v = 5, strata = Class)\n",
    "\n",
    "# store the total number of predictors\n",
    "n_total <- length(names)\n",
    "\n",
    "# stores selected predictors\n",
    "selected <- c()\n",
    "\n",
    "# for every size from 1 to the total number of predictors \n",
    "for (i in 1:n_total) {\n",
    "# for every predictor still not added yet\n",
    "accs <- list()\n",
    "    models <- list()\n",
    "for (j in 1:length(names)) {\n",
    "\n",
    "# create a model string for this combination of predictors        \n",
    "        preds_new <- c(selected, names[[j]])\n",
    "        model_string <- paste(\"EU_Sales\", \"~\", paste(preds_new, collapse=\"+\"))\n",
    "\n",
    "# create a recipe from the model string  \n",
    "vg_recipe <- recipe(as.formula(model_string),\n",
    "                                data = vg_train) %>%                          \n",
    "step_scale(all_predictors()) %>%                          \n",
    "step_center(all_predictors())\n",
    "\n",
    "# tune the KNN regression model with these predictors,\n",
    "# and collect the accuracy for the best K        \n",
    "acc <- workflow() %>%          \n",
    "add_recipe(vg_recipe)%>%           \n",
    "add_model(knn_spec)%>%          \n",
    "tune_grid(resamples = vg_vfold, grid = 10) %>%          \n",
    "collect_metrics() %>%           \n",
    "filter(.metric == \"accuracy\") %>%          \n",
    "summarize(mx = max(mean))\n",
    "        acc <- acc$mx %>%  unlist()\n",
    "\n",
    "# add this result to the dataframe        \n",
    "accs[[j]] <- acc\n",
    "        models[[j]] <- model_string\n",
    "    }\n",
    "\n",
    "    jstar <- which.max(unlist(accs))\n",
    "    accuracies <- accuracies %>% \n",
    "      add_row(size = i,\n",
    "              model_string = models[[jstar]],\n",
    "              accuracy = accs[[jstar]])\n",
    "    selected <- c(selected, names[[jstar]])\n",
    "    names <- names[-jstar]\n",
    "}\n",
    "accuracies"
   ]
  },
  {
   "cell_type": "markdown",
   "metadata": {},
   "source": [
    "**Choose K**"
   ]
  },
  {
   "cell_type": "code",
   "execution_count": null,
   "metadata": {},
   "outputs": [],
   "source": [
    "gridvals <- tibble(neighbors = seq(from = 1, to = 200))\n",
    "\n",
    "vg_recipe <- recipe(EU_Sales ~ NA_Sales + Other_sales, data = vgtrain) %>%  \n",
    "step_scale(all_predictors()) %>%  \n",
    "step_center(all_predictors())\n",
    "\n",
    "\n",
    "vg_spec <- nearest_neighbor(weight_func = \"rectangular\",\n",
    "                    neighbors = tune()) %>%  \n",
    "set_engine(\"kknn\") %>%  \n",
    "set_mode(\"regression\")\n",
    "\n",
    "\n",
    "vg_vfold <- vfold_cv(vgtrain, v = 5, strata = EU_Sales)\n",
    "\n",
    "\n",
    "vg_wkflw <- workflow() %>%  \n",
    "add_recipe(vg_recipe) %>%  \n",
    "add_model(vg_spec)\n",
    "vg_wkflw\n",
    "\n",
    "\n",
    "vg_results <- vg_wkflw %>%  \n",
    "tune_grid(resamples = vg_vfold, grid = gridvals) %>%  \n",
    "collect_metrics() %>%  \n",
    "filter(.metric == \"rmse\")"
   ]
  },
  {
   "cell_type": "markdown",
   "metadata": {},
   "source": [
    "**Create a model with best predictors and chosen K**"
   ]
  },
  {
   "cell_type": "code",
   "execution_count": 1,
   "metadata": {},
   "outputs": [
    {
     "ename": "ERROR",
     "evalue": "Error in parse(text = x, srcfile = src): <text>:4:34: unexpected ')'\n3: vg_spec_k <- nearest_neighbor(weight_func = \"rectangular\",\n4:                     neighbors = ?)\n                                    ^\n",
     "output_type": "error",
     "traceback": [
      "Error in parse(text = x, srcfile = src): <text>:4:34: unexpected ')'\n3: vg_spec_k <- nearest_neighbor(weight_func = \"rectangular\",\n4:                     neighbors = ?)\n                                    ^\nTraceback:\n"
     ]
    }
   ],
   "source": [
    "set.seed(9999)\n",
    "\n",
    "vg_spec_k <- nearest_neighbor(weight_func = \"rectangular\",\n",
    "                    neighbors = ?) %>%  \n",
    "set_engine(\"kknn\") %>%  \n",
    "set_mode(\"regression\")\n",
    "\n",
    "\n",
    "vg_fit <- workflow() %>%  \n",
    "add_recipe(vg_recipe) %>%  \n",
    "add_model(vg_spec_k) %>%\n",
    "fit(data=vgtrain)\n",
    "                                 \n",
    "vg_fit"
   ]
  },
  {
   "cell_type": "markdown",
   "metadata": {},
   "source": [
    "**Evaluate how good the model is on test data**"
   ]
  },
  {
   "cell_type": "code",
   "execution_count": null,
   "metadata": {},
   "outputs": [],
   "source": [
    "vg_summary <- vg_fit %>%  \n",
    "predict(vgtest) %>%  \n",
    "bind_cols(vgtest) %>%  \n",
    "metrics(truth = EU_Sales, estimate = .pred) %>%  \n",
    "filter(.metric == 'rmse')\n",
    "\n",
    "vg_summary"
   ]
  },
  {
   "cell_type": "code",
   "execution_count": null,
   "metadata": {},
   "outputs": [],
   "source": []
  }
 ],
 "metadata": {
  "kernelspec": {
   "display_name": "R",
   "language": "R",
   "name": "ir"
  },
  "language_info": {
   "codemirror_mode": "r",
   "file_extension": ".r",
   "mimetype": "text/x-r-source",
   "name": "R",
   "pygments_lexer": "r",
   "version": "4.0.0"
  }
 },
 "nbformat": 4,
 "nbformat_minor": 4
}
