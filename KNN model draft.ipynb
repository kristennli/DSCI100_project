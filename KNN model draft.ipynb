{
 "cells": [
  {
   "cell_type": "code",
   "execution_count": 2,
   "metadata": {},
   "outputs": [
    {
     "name": "stderr",
     "output_type": "stream",
     "text": [
      "── \u001b[1mAttaching packages\u001b[22m ─────────────────────────────────────── tidyverse 1.3.0 ──\n",
      "\n",
      "\u001b[32m✔\u001b[39m \u001b[34mggplot2\u001b[39m 3.3.2     \u001b[32m✔\u001b[39m \u001b[34mpurrr  \u001b[39m 0.3.4\n",
      "\u001b[32m✔\u001b[39m \u001b[34mtibble \u001b[39m 3.0.3     \u001b[32m✔\u001b[39m \u001b[34mdplyr  \u001b[39m 1.0.2\n",
      "\u001b[32m✔\u001b[39m \u001b[34mtidyr  \u001b[39m 1.1.2     \u001b[32m✔\u001b[39m \u001b[34mstringr\u001b[39m 1.4.0\n",
      "\u001b[32m✔\u001b[39m \u001b[34mreadr  \u001b[39m 1.3.1     \u001b[32m✔\u001b[39m \u001b[34mforcats\u001b[39m 0.5.0\n",
      "\n",
      "Warning message:\n",
      "“package ‘ggplot2’ was built under R version 4.0.1”\n",
      "Warning message:\n",
      "“package ‘tibble’ was built under R version 4.0.2”\n",
      "Warning message:\n",
      "“package ‘tidyr’ was built under R version 4.0.2”\n",
      "Warning message:\n",
      "“package ‘dplyr’ was built under R version 4.0.2”\n",
      "── \u001b[1mConflicts\u001b[22m ────────────────────────────────────────── tidyverse_conflicts() ──\n",
      "\u001b[31m✖\u001b[39m \u001b[34mdplyr\u001b[39m::\u001b[32mfilter()\u001b[39m masks \u001b[34mstats\u001b[39m::filter()\n",
      "\u001b[31m✖\u001b[39m \u001b[34mdplyr\u001b[39m::\u001b[32mlag()\u001b[39m    masks \u001b[34mstats\u001b[39m::lag()\n",
      "\n",
      "Warning message:\n",
      "“package ‘tidymodels’ was built under R version 4.0.2”\n",
      "── \u001b[1mAttaching packages\u001b[22m ────────────────────────────────────── tidymodels 0.1.1 ──\n",
      "\n",
      "\u001b[32m✔\u001b[39m \u001b[34mbroom    \u001b[39m 0.7.0      \u001b[32m✔\u001b[39m \u001b[34mrecipes  \u001b[39m 0.1.13\n",
      "\u001b[32m✔\u001b[39m \u001b[34mdials    \u001b[39m 0.0.9      \u001b[32m✔\u001b[39m \u001b[34mrsample  \u001b[39m 0.0.7 \n",
      "\u001b[32m✔\u001b[39m \u001b[34minfer    \u001b[39m 0.5.4      \u001b[32m✔\u001b[39m \u001b[34mtune     \u001b[39m 0.1.1 \n",
      "\u001b[32m✔\u001b[39m \u001b[34mmodeldata\u001b[39m 0.0.2      \u001b[32m✔\u001b[39m \u001b[34mworkflows\u001b[39m 0.2.0 \n",
      "\u001b[32m✔\u001b[39m \u001b[34mparsnip  \u001b[39m 0.1.3      \u001b[32m✔\u001b[39m \u001b[34myardstick\u001b[39m 0.0.7 \n",
      "\n",
      "Warning message:\n",
      "“package ‘broom’ was built under R version 4.0.2”\n",
      "Warning message:\n",
      "“package ‘dials’ was built under R version 4.0.2”\n",
      "Warning message:\n",
      "“package ‘infer’ was built under R version 4.0.3”\n",
      "Warning message:\n",
      "“package ‘modeldata’ was built under R version 4.0.1”\n",
      "Warning message:\n",
      "“package ‘parsnip’ was built under R version 4.0.2”\n",
      "Warning message:\n",
      "“package ‘recipes’ was built under R version 4.0.1”\n",
      "Warning message:\n",
      "“package ‘tune’ was built under R version 4.0.2”\n",
      "Warning message:\n",
      "“package ‘workflows’ was built under R version 4.0.2”\n",
      "Warning message:\n",
      "“package ‘yardstick’ was built under R version 4.0.2”\n",
      "── \u001b[1mConflicts\u001b[22m ───────────────────────────────────────── tidymodels_conflicts() ──\n",
      "\u001b[31m✖\u001b[39m \u001b[34mscales\u001b[39m::\u001b[32mdiscard()\u001b[39m masks \u001b[34mpurrr\u001b[39m::discard()\n",
      "\u001b[31m✖\u001b[39m \u001b[34mdplyr\u001b[39m::\u001b[32mfilter()\u001b[39m   masks \u001b[34mstats\u001b[39m::filter()\n",
      "\u001b[31m✖\u001b[39m \u001b[34mrecipes\u001b[39m::\u001b[32mfixed()\u001b[39m  masks \u001b[34mstringr\u001b[39m::fixed()\n",
      "\u001b[31m✖\u001b[39m \u001b[34mdplyr\u001b[39m::\u001b[32mlag()\u001b[39m      masks \u001b[34mstats\u001b[39m::lag()\n",
      "\u001b[31m✖\u001b[39m \u001b[34myardstick\u001b[39m::\u001b[32mspec()\u001b[39m masks \u001b[34mreadr\u001b[39m::spec()\n",
      "\u001b[31m✖\u001b[39m \u001b[34mrecipes\u001b[39m::\u001b[32mstep()\u001b[39m   masks \u001b[34mstats\u001b[39m::step()\n",
      "\n"
     ]
    }
   ],
   "source": [
    "#library needed for this project\n",
    "library(tidyverse)\n",
    "library(dplyr)\n",
    "library(RColorBrewer)\n",
    "library(tidyr)\n",
    "library(tidymodels)\n",
    "library(repr)"
   ]
  },
  {
   "cell_type": "markdown",
   "metadata": {},
   "source": [
    "**Load Data**"
   ]
  },
  {
   "cell_type": "code",
   "execution_count": 3,
   "metadata": {},
   "outputs": [
    {
     "name": "stderr",
     "output_type": "stream",
     "text": [
      "Parsed with column specification:\n",
      "cols(\n",
      "  Rank = \u001b[32mcol_double()\u001b[39m,\n",
      "  Name = \u001b[31mcol_character()\u001b[39m,\n",
      "  Platform = \u001b[31mcol_character()\u001b[39m,\n",
      "  Year = \u001b[31mcol_character()\u001b[39m,\n",
      "  Genre = \u001b[31mcol_character()\u001b[39m,\n",
      "  Publisher = \u001b[31mcol_character()\u001b[39m,\n",
      "  NA_Sales = \u001b[32mcol_double()\u001b[39m,\n",
      "  EU_Sales = \u001b[32mcol_double()\u001b[39m,\n",
      "  JP_Sales = \u001b[32mcol_double()\u001b[39m,\n",
      "  Other_Sales = \u001b[32mcol_double()\u001b[39m,\n",
      "  Global_Sales = \u001b[32mcol_double()\u001b[39m\n",
      ")\n",
      "\n"
     ]
    },
    {
     "data": {
      "text/plain": [
       "      Rank           Name             Platform             Year          \n",
       " Min.   :    1   Length:16598       Length:16598       Length:16598      \n",
       " 1st Qu.: 4151   Class :character   Class :character   Class :character  \n",
       " Median : 8300   Mode  :character   Mode  :character   Mode  :character  \n",
       " Mean   : 8301                                                           \n",
       " 3rd Qu.:12450                                                           \n",
       " Max.   :16600                                                           \n",
       "    Genre            Publisher            NA_Sales          EU_Sales      \n",
       " Length:16598       Length:16598       Min.   : 0.0000   Min.   : 0.0000  \n",
       " Class :character   Class :character   1st Qu.: 0.0000   1st Qu.: 0.0000  \n",
       " Mode  :character   Mode  :character   Median : 0.0800   Median : 0.0200  \n",
       "                                       Mean   : 0.2647   Mean   : 0.1467  \n",
       "                                       3rd Qu.: 0.2400   3rd Qu.: 0.1100  \n",
       "                                       Max.   :41.4900   Max.   :29.0200  \n",
       "    JP_Sales         Other_Sales        Global_Sales    \n",
       " Min.   : 0.00000   Min.   : 0.00000   Min.   : 0.0100  \n",
       " 1st Qu.: 0.00000   1st Qu.: 0.00000   1st Qu.: 0.0600  \n",
       " Median : 0.00000   Median : 0.01000   Median : 0.1700  \n",
       " Mean   : 0.07778   Mean   : 0.04806   Mean   : 0.5374  \n",
       " 3rd Qu.: 0.04000   3rd Qu.: 0.04000   3rd Qu.: 0.4700  \n",
       " Max.   :10.22000   Max.   :10.57000   Max.   :82.7400  "
      ]
     },
     "metadata": {},
     "output_type": "display_data"
    }
   ],
   "source": [
    "raw_vgdata <- read_csv(\"vgsales.csv\")\n",
    "summary(raw_vgdata)"
   ]
  },
  {
   "cell_type": "markdown",
   "metadata": {},
   "source": [
    "**Clean Data**"
   ]
  },
  {
   "cell_type": "code",
   "execution_count": 4,
   "metadata": {},
   "outputs": [],
   "source": [
    "vg <- na.omit(raw_vgdata) %>%\n",
    "      filter(Year < 2017) %>%\n",
    "    filter(Genre == \"Sport\" | Genre == \"Action\")    "
   ]
  },
  {
   "cell_type": "markdown",
   "metadata": {},
   "source": [
    "**Split Data**\n"
   ]
  },
  {
   "cell_type": "code",
   "execution_count": 5,
   "metadata": {},
   "outputs": [],
   "source": [
    "set.seed(9999)\n",
    "\n",
    "vgsplit<-initial_split(vg, prop=0.75, strata=EU_Sales) \n",
    "vgtrain<-training(vgsplit)\n",
    "vgtest<-testing(vgsplit)"
   ]
  },
  {
   "cell_type": "markdown",
   "metadata": {},
   "source": [
    "**Choose K**"
   ]
  },
  {
   "cell_type": "code",
   "execution_count": 8,
   "metadata": {},
   "outputs": [],
   "source": [
    "gridvals <- tibble(neighbors = seq(from = 1, to = 200))\n",
    "\n",
    "vg_recipe <- recipe(EU_Sales ~ NA_Sales + Other_Sales, data = vgtrain) %>%  \n",
    "step_scale(all_predictors()) %>%  \n",
    "step_center(all_predictors())\n",
    "\n",
    "\n",
    "vg_spec <- nearest_neighbor(weight_func = \"rectangular\",\n",
    "                    neighbors = tune()) %>%  \n",
    "set_engine(\"kknn\") %>%  \n",
    "set_mode(\"regression\")\n",
    "\n",
    "\n",
    "vg_vfold <- vfold_cv(vgtrain, v = 5, strata = EU_Sales)\n"
   ]
  },
  {
   "cell_type": "code",
   "execution_count": 10,
   "metadata": {},
   "outputs": [
    {
     "data": {
      "text/html": [
       "<table>\n",
       "<caption>A tibble: 1 × 1</caption>\n",
       "<thead>\n",
       "\t<tr><th scope=col>neighbors</th></tr>\n",
       "\t<tr><th scope=col>&lt;int&gt;</th></tr>\n",
       "</thead>\n",
       "<tbody>\n",
       "\t<tr><td>12</td></tr>\n",
       "</tbody>\n",
       "</table>\n"
      ],
      "text/latex": [
       "A tibble: 1 × 1\n",
       "\\begin{tabular}{l}\n",
       " neighbors\\\\\n",
       " <int>\\\\\n",
       "\\hline\n",
       "\t 12\\\\\n",
       "\\end{tabular}\n"
      ],
      "text/markdown": [
       "\n",
       "A tibble: 1 × 1\n",
       "\n",
       "| neighbors &lt;int&gt; |\n",
       "|---|\n",
       "| 12 |\n",
       "\n"
      ],
      "text/plain": [
       "  neighbors\n",
       "1 12       "
      ]
     },
     "metadata": {},
     "output_type": "display_data"
    }
   ],
   "source": [
    "vg_wkflw <- workflow() %>%  \n",
    "add_recipe(vg_recipe) %>%  \n",
    "add_model(vg_spec)\n",
    "\n",
    "\n",
    "vg_results <- vg_wkflw %>%  \n",
    "tune_grid(resamples = vg_vfold, grid = gridvals) %>%  \n",
    "collect_metrics() %>%  \n",
    "filter(.metric == \"rmse\")%>%\n",
    "filter(mean == min(mean)) %>%\n",
    "select(neighbors)\n",
    "\n",
    "vg_results"
   ]
  },
  {
   "cell_type": "markdown",
   "metadata": {},
   "source": [
    "**Create a model with best predictors and chosen K**"
   ]
  },
  {
   "cell_type": "code",
   "execution_count": 11,
   "metadata": {},
   "outputs": [
    {
     "data": {
      "text/plain": [
       "══ Workflow [trained] ══════════════════════════════════════════════════════════\n",
       "\u001b[3mPreprocessor:\u001b[23m Recipe\n",
       "\u001b[3mModel:\u001b[23m nearest_neighbor()\n",
       "\n",
       "── Preprocessor ────────────────────────────────────────────────────────────────\n",
       "2 Recipe Steps\n",
       "\n",
       "● step_scale()\n",
       "● step_center()\n",
       "\n",
       "── Model ───────────────────────────────────────────────────────────────────────\n",
       "\n",
       "Call:\n",
       "kknn::train.kknn(formula = ..y ~ ., data = data, ks = ~12, kernel = ~\"rectangular\")\n",
       "\n",
       "Type of response variable: continuous\n",
       "minimal mean absolute error: 0.06330841\n",
       "Minimal mean squared error: 0.05406003\n",
       "Best kernel: rectangular\n",
       "Best k: 12"
      ]
     },
     "metadata": {},
     "output_type": "display_data"
    }
   ],
   "source": [
    "set.seed(9999)\n",
    "\n",
    "vg_spec_k <- nearest_neighbor(weight_func = \"rectangular\",\n",
    "                    neighbors = 12) %>%  \n",
    "set_engine(\"kknn\") %>%  \n",
    "set_mode(\"regression\")\n",
    "\n",
    "\n",
    "vg_fit <- workflow() %>%  \n",
    "add_recipe(vg_recipe) %>%  \n",
    "add_model(vg_spec_k) %>%\n",
    "fit(data=vgtrain)\n",
    "                                 \n",
    "vg_fit"
   ]
  },
  {
   "cell_type": "markdown",
   "metadata": {},
   "source": [
    "**Evaluate how good the model is on test data**"
   ]
  },
  {
   "cell_type": "code",
   "execution_count": 12,
   "metadata": {},
   "outputs": [
    {
     "data": {
      "text/html": [
       "<table>\n",
       "<caption>A tibble: 1 × 3</caption>\n",
       "<thead>\n",
       "\t<tr><th scope=col>.metric</th><th scope=col>.estimator</th><th scope=col>.estimate</th></tr>\n",
       "\t<tr><th scope=col>&lt;chr&gt;</th><th scope=col>&lt;chr&gt;</th><th scope=col>&lt;dbl&gt;</th></tr>\n",
       "</thead>\n",
       "<tbody>\n",
       "\t<tr><td>rmse</td><td>standard</td><td>0.1854805</td></tr>\n",
       "</tbody>\n",
       "</table>\n"
      ],
      "text/latex": [
       "A tibble: 1 × 3\n",
       "\\begin{tabular}{lll}\n",
       " .metric & .estimator & .estimate\\\\\n",
       " <chr> & <chr> & <dbl>\\\\\n",
       "\\hline\n",
       "\t rmse & standard & 0.1854805\\\\\n",
       "\\end{tabular}\n"
      ],
      "text/markdown": [
       "\n",
       "A tibble: 1 × 3\n",
       "\n",
       "| .metric &lt;chr&gt; | .estimator &lt;chr&gt; | .estimate &lt;dbl&gt; |\n",
       "|---|---|---|\n",
       "| rmse | standard | 0.1854805 |\n",
       "\n"
      ],
      "text/plain": [
       "  .metric .estimator .estimate\n",
       "1 rmse    standard   0.1854805"
      ]
     },
     "metadata": {},
     "output_type": "display_data"
    }
   ],
   "source": [
    "vg_summary <- vg_fit %>%  \n",
    "predict(vgtest) %>%  \n",
    "bind_cols(vgtest) %>%  \n",
    "metrics(truth = EU_Sales, estimate = .pred) %>%  \n",
    "filter(.metric == 'rmse')\n",
    "\n",
    "vg_summary"
   ]
  }
 ],
 "metadata": {
  "kernelspec": {
   "display_name": "R",
   "language": "R",
   "name": "ir"
  },
  "language_info": {
   "codemirror_mode": "r",
   "file_extension": ".r",
   "mimetype": "text/x-r-source",
   "name": "R",
   "pygments_lexer": "r",
   "version": "4.0.0"
  }
 },
 "nbformat": 4,
 "nbformat_minor": 4
}
